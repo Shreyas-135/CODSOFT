{
 "cells": [
  {
   "cell_type": "code",
   "execution_count": 1,
   "id": "6d879305",
   "metadata": {
    "_cell_guid": "b1076dfc-b9ad-4769-8c92-a6c4dae69d19",
    "_uuid": "8f2839f25d086af736a60e9eeb907d3b93b6e0e5",
    "execution": {
     "iopub.execute_input": "2023-10-13T21:53:17.013507Z",
     "iopub.status.busy": "2023-10-13T21:53:17.012860Z",
     "iopub.status.idle": "2023-10-13T21:53:17.393188Z",
     "shell.execute_reply": "2023-10-13T21:53:17.391654Z"
    },
    "papermill": {
     "duration": 0.393925,
     "end_time": "2023-10-13T21:53:17.395518",
     "exception": false,
     "start_time": "2023-10-13T21:53:17.001593",
     "status": "completed"
    },
    "tags": []
   },
   "outputs": [
    {
     "name": "stdout",
     "output_type": "stream",
     "text": [
      "/kaggle/input/fraud-detection/fraudTest.csv\n",
      "/kaggle/input/fraud-detection/fraudTrain.csv\n"
     ]
    }
   ],
   "source": [
    "# This Python 3 environment comes with many helpful analytics libraries installed\n",
    "# It is defined by the kaggle/python Docker image: https://github.com/kaggle/docker-python\n",
    "# For example, here's several helpful packages to load\n",
    "\n",
    "import numpy as np # linear algebra\n",
    "import pandas as pd # data processing, CSV file I/O (e.g. pd.read_csv)\n",
    "\n",
    "# Input data files are available in the read-only \"../input/\" directory\n",
    "# For example, running this (by clicking run or pressing Shift+Enter) will list all files under the input directory\n",
    "\n",
    "import os\n",
    "for dirname, _, filenames in os.walk('/kaggle/input'):\n",
    "    for filename in filenames:\n",
    "        print(os.path.join(dirname, filename))\n",
    "\n",
    "# You can write up to 20GB to the current directory (/kaggle/working/) that gets preserved as output when you create a version using \"Save & Run All\" \n",
    "# You can also write temporary files to /kaggle/temp/, but they won't be saved outside of the current session"
   ]
  },
  {
   "cell_type": "code",
   "execution_count": 2,
   "id": "eb42a6dc",
   "metadata": {
    "execution": {
     "iopub.execute_input": "2023-10-13T21:53:17.420020Z",
     "iopub.status.busy": "2023-10-13T21:53:17.418902Z",
     "iopub.status.idle": "2023-10-13T21:53:19.482815Z",
     "shell.execute_reply": "2023-10-13T21:53:19.482015Z"
    },
    "papermill": {
     "duration": 2.078613,
     "end_time": "2023-10-13T21:53:19.485177",
     "exception": false,
     "start_time": "2023-10-13T21:53:17.406564",
     "status": "completed"
    },
    "tags": []
   },
   "outputs": [],
   "source": [
    "#import libraries and algrothims we wil use\n",
    "import numpy as np\n",
    "import pandas as pd\n",
    "import matplotlib.pyplot as plt\n",
    "import seaborn as sns\n",
    "from sklearn.linear_model import LogisticRegression\n",
    "from sklearn.tree import DecisionTreeClassifier as DTC, DecisionTreeRegressor as DTR\n",
    "from sklearn.ensemble import RandomForestRegressor\n",
    "from sklearn.model_selection import train_test_split\n",
    "from sklearn.preprocessing import LabelEncoder\n",
    "from sklearn.preprocessing import StandardScaler\n",
    "from sklearn.ensemble import RandomForestRegressor\n",
    "from sklearn.metrics import accuracy_score"
   ]
  },
  {
   "cell_type": "code",
   "execution_count": 3,
   "id": "791e06bf",
   "metadata": {
    "execution": {
     "iopub.execute_input": "2023-10-13T21:53:19.506759Z",
     "iopub.status.busy": "2023-10-13T21:53:19.506093Z",
     "iopub.status.idle": "2023-10-13T21:53:31.435921Z",
     "shell.execute_reply": "2023-10-13T21:53:31.434873Z"
    },
    "papermill": {
     "duration": 11.943027,
     "end_time": "2023-10-13T21:53:31.438163",
     "exception": false,
     "start_time": "2023-10-13T21:53:19.495136",
     "status": "completed"
    },
    "tags": []
   },
   "outputs": [
    {
     "data": {
      "text/html": [
       "<div>\n",
       "<style scoped>\n",
       "    .dataframe tbody tr th:only-of-type {\n",
       "        vertical-align: middle;\n",
       "    }\n",
       "\n",
       "    .dataframe tbody tr th {\n",
       "        vertical-align: top;\n",
       "    }\n",
       "\n",
       "    .dataframe thead th {\n",
       "        text-align: right;\n",
       "    }\n",
       "</style>\n",
       "<table border=\"1\" class=\"dataframe\">\n",
       "  <thead>\n",
       "    <tr style=\"text-align: right;\">\n",
       "      <th></th>\n",
       "      <th>Unnamed: 0</th>\n",
       "      <th>trans_date_trans_time</th>\n",
       "      <th>cc_num</th>\n",
       "      <th>merchant</th>\n",
       "      <th>category</th>\n",
       "      <th>amt</th>\n",
       "      <th>first</th>\n",
       "      <th>last</th>\n",
       "      <th>gender</th>\n",
       "      <th>street</th>\n",
       "      <th>...</th>\n",
       "      <th>lat</th>\n",
       "      <th>long</th>\n",
       "      <th>city_pop</th>\n",
       "      <th>job</th>\n",
       "      <th>dob</th>\n",
       "      <th>trans_num</th>\n",
       "      <th>unix_time</th>\n",
       "      <th>merch_lat</th>\n",
       "      <th>merch_long</th>\n",
       "      <th>is_fraud</th>\n",
       "    </tr>\n",
       "  </thead>\n",
       "  <tbody>\n",
       "    <tr>\n",
       "      <th>0</th>\n",
       "      <td>0</td>\n",
       "      <td>2019-01-01 00:00:18</td>\n",
       "      <td>2703186189652095</td>\n",
       "      <td>fraud_Rippin, Kub and Mann</td>\n",
       "      <td>misc_net</td>\n",
       "      <td>4.97</td>\n",
       "      <td>Jennifer</td>\n",
       "      <td>Banks</td>\n",
       "      <td>F</td>\n",
       "      <td>561 Perry Cove</td>\n",
       "      <td>...</td>\n",
       "      <td>36.0788</td>\n",
       "      <td>-81.1781</td>\n",
       "      <td>3495</td>\n",
       "      <td>Psychologist, counselling</td>\n",
       "      <td>1988-03-09</td>\n",
       "      <td>0b242abb623afc578575680df30655b9</td>\n",
       "      <td>1325376018</td>\n",
       "      <td>36.011293</td>\n",
       "      <td>-82.048315</td>\n",
       "      <td>0</td>\n",
       "    </tr>\n",
       "    <tr>\n",
       "      <th>1</th>\n",
       "      <td>1</td>\n",
       "      <td>2019-01-01 00:00:44</td>\n",
       "      <td>630423337322</td>\n",
       "      <td>fraud_Heller, Gutmann and Zieme</td>\n",
       "      <td>grocery_pos</td>\n",
       "      <td>107.23</td>\n",
       "      <td>Stephanie</td>\n",
       "      <td>Gill</td>\n",
       "      <td>F</td>\n",
       "      <td>43039 Riley Greens Suite 393</td>\n",
       "      <td>...</td>\n",
       "      <td>48.8878</td>\n",
       "      <td>-118.2105</td>\n",
       "      <td>149</td>\n",
       "      <td>Special educational needs teacher</td>\n",
       "      <td>1978-06-21</td>\n",
       "      <td>1f76529f8574734946361c461b024d99</td>\n",
       "      <td>1325376044</td>\n",
       "      <td>49.159047</td>\n",
       "      <td>-118.186462</td>\n",
       "      <td>0</td>\n",
       "    </tr>\n",
       "    <tr>\n",
       "      <th>2</th>\n",
       "      <td>2</td>\n",
       "      <td>2019-01-01 00:00:51</td>\n",
       "      <td>38859492057661</td>\n",
       "      <td>fraud_Lind-Buckridge</td>\n",
       "      <td>entertainment</td>\n",
       "      <td>220.11</td>\n",
       "      <td>Edward</td>\n",
       "      <td>Sanchez</td>\n",
       "      <td>M</td>\n",
       "      <td>594 White Dale Suite 530</td>\n",
       "      <td>...</td>\n",
       "      <td>42.1808</td>\n",
       "      <td>-112.2620</td>\n",
       "      <td>4154</td>\n",
       "      <td>Nature conservation officer</td>\n",
       "      <td>1962-01-19</td>\n",
       "      <td>a1a22d70485983eac12b5b88dad1cf95</td>\n",
       "      <td>1325376051</td>\n",
       "      <td>43.150704</td>\n",
       "      <td>-112.154481</td>\n",
       "      <td>0</td>\n",
       "    </tr>\n",
       "    <tr>\n",
       "      <th>3</th>\n",
       "      <td>3</td>\n",
       "      <td>2019-01-01 00:01:16</td>\n",
       "      <td>3534093764340240</td>\n",
       "      <td>fraud_Kutch, Hermiston and Farrell</td>\n",
       "      <td>gas_transport</td>\n",
       "      <td>45.00</td>\n",
       "      <td>Jeremy</td>\n",
       "      <td>White</td>\n",
       "      <td>M</td>\n",
       "      <td>9443 Cynthia Court Apt. 038</td>\n",
       "      <td>...</td>\n",
       "      <td>46.2306</td>\n",
       "      <td>-112.1138</td>\n",
       "      <td>1939</td>\n",
       "      <td>Patent attorney</td>\n",
       "      <td>1967-01-12</td>\n",
       "      <td>6b849c168bdad6f867558c3793159a81</td>\n",
       "      <td>1325376076</td>\n",
       "      <td>47.034331</td>\n",
       "      <td>-112.561071</td>\n",
       "      <td>0</td>\n",
       "    </tr>\n",
       "    <tr>\n",
       "      <th>4</th>\n",
       "      <td>4</td>\n",
       "      <td>2019-01-01 00:03:06</td>\n",
       "      <td>375534208663984</td>\n",
       "      <td>fraud_Keeling-Crist</td>\n",
       "      <td>misc_pos</td>\n",
       "      <td>41.96</td>\n",
       "      <td>Tyler</td>\n",
       "      <td>Garcia</td>\n",
       "      <td>M</td>\n",
       "      <td>408 Bradley Rest</td>\n",
       "      <td>...</td>\n",
       "      <td>38.4207</td>\n",
       "      <td>-79.4629</td>\n",
       "      <td>99</td>\n",
       "      <td>Dance movement psychotherapist</td>\n",
       "      <td>1986-03-28</td>\n",
       "      <td>a41d7549acf90789359a9aa5346dcb46</td>\n",
       "      <td>1325376186</td>\n",
       "      <td>38.674999</td>\n",
       "      <td>-78.632459</td>\n",
       "      <td>0</td>\n",
       "    </tr>\n",
       "  </tbody>\n",
       "</table>\n",
       "<p>5 rows × 23 columns</p>\n",
       "</div>"
      ],
      "text/plain": [
       "   Unnamed: 0 trans_date_trans_time            cc_num  \\\n",
       "0           0   2019-01-01 00:00:18  2703186189652095   \n",
       "1           1   2019-01-01 00:00:44      630423337322   \n",
       "2           2   2019-01-01 00:00:51    38859492057661   \n",
       "3           3   2019-01-01 00:01:16  3534093764340240   \n",
       "4           4   2019-01-01 00:03:06   375534208663984   \n",
       "\n",
       "                             merchant       category     amt      first  \\\n",
       "0          fraud_Rippin, Kub and Mann       misc_net    4.97   Jennifer   \n",
       "1     fraud_Heller, Gutmann and Zieme    grocery_pos  107.23  Stephanie   \n",
       "2                fraud_Lind-Buckridge  entertainment  220.11     Edward   \n",
       "3  fraud_Kutch, Hermiston and Farrell  gas_transport   45.00     Jeremy   \n",
       "4                 fraud_Keeling-Crist       misc_pos   41.96      Tyler   \n",
       "\n",
       "      last gender                        street  ...      lat      long  \\\n",
       "0    Banks      F                561 Perry Cove  ...  36.0788  -81.1781   \n",
       "1     Gill      F  43039 Riley Greens Suite 393  ...  48.8878 -118.2105   \n",
       "2  Sanchez      M      594 White Dale Suite 530  ...  42.1808 -112.2620   \n",
       "3    White      M   9443 Cynthia Court Apt. 038  ...  46.2306 -112.1138   \n",
       "4   Garcia      M              408 Bradley Rest  ...  38.4207  -79.4629   \n",
       "\n",
       "   city_pop                                job         dob  \\\n",
       "0      3495          Psychologist, counselling  1988-03-09   \n",
       "1       149  Special educational needs teacher  1978-06-21   \n",
       "2      4154        Nature conservation officer  1962-01-19   \n",
       "3      1939                    Patent attorney  1967-01-12   \n",
       "4        99     Dance movement psychotherapist  1986-03-28   \n",
       "\n",
       "                          trans_num   unix_time  merch_lat  merch_long  \\\n",
       "0  0b242abb623afc578575680df30655b9  1325376018  36.011293  -82.048315   \n",
       "1  1f76529f8574734946361c461b024d99  1325376044  49.159047 -118.186462   \n",
       "2  a1a22d70485983eac12b5b88dad1cf95  1325376051  43.150704 -112.154481   \n",
       "3  6b849c168bdad6f867558c3793159a81  1325376076  47.034331 -112.561071   \n",
       "4  a41d7549acf90789359a9aa5346dcb46  1325376186  38.674999  -78.632459   \n",
       "\n",
       "   is_fraud  \n",
       "0         0  \n",
       "1         0  \n",
       "2         0  \n",
       "3         0  \n",
       "4         0  \n",
       "\n",
       "[5 rows x 23 columns]"
      ]
     },
     "execution_count": 3,
     "metadata": {},
     "output_type": "execute_result"
    }
   ],
   "source": [
    "df=pd.read_csv('/kaggle/input/fraud-detection/fraudTrain.csv')\n",
    "df.head()"
   ]
  },
  {
   "cell_type": "code",
   "execution_count": 4,
   "id": "d4965c5f",
   "metadata": {
    "execution": {
     "iopub.execute_input": "2023-10-13T21:53:31.459855Z",
     "iopub.status.busy": "2023-10-13T21:53:31.459468Z",
     "iopub.status.idle": "2023-10-13T21:53:31.465449Z",
     "shell.execute_reply": "2023-10-13T21:53:31.464443Z"
    },
    "papermill": {
     "duration": 0.019276,
     "end_time": "2023-10-13T21:53:31.467392",
     "exception": false,
     "start_time": "2023-10-13T21:53:31.448116",
     "status": "completed"
    },
    "tags": []
   },
   "outputs": [
    {
     "data": {
      "text/plain": [
       "(1296675, 23)"
      ]
     },
     "execution_count": 4,
     "metadata": {},
     "output_type": "execute_result"
    }
   ],
   "source": [
    "df.shape"
   ]
  },
  {
   "cell_type": "code",
   "execution_count": 5,
   "id": "ef3f7852",
   "metadata": {
    "execution": {
     "iopub.execute_input": "2023-10-13T21:53:31.489330Z",
     "iopub.status.busy": "2023-10-13T21:53:31.488715Z",
     "iopub.status.idle": "2023-10-13T21:53:31.495468Z",
     "shell.execute_reply": "2023-10-13T21:53:31.494281Z"
    },
    "papermill": {
     "duration": 0.020165,
     "end_time": "2023-10-13T21:53:31.497464",
     "exception": false,
     "start_time": "2023-10-13T21:53:31.477299",
     "status": "completed"
    },
    "tags": []
   },
   "outputs": [
    {
     "data": {
      "text/plain": [
       "Index(['Unnamed: 0', 'trans_date_trans_time', 'cc_num', 'merchant', 'category',\n",
       "       'amt', 'first', 'last', 'gender', 'street', 'city', 'state', 'zip',\n",
       "       'lat', 'long', 'city_pop', 'job', 'dob', 'trans_num', 'unix_time',\n",
       "       'merch_lat', 'merch_long', 'is_fraud'],\n",
       "      dtype='object')"
      ]
     },
     "execution_count": 5,
     "metadata": {},
     "output_type": "execute_result"
    }
   ],
   "source": [
    "df.columns"
   ]
  },
  {
   "cell_type": "code",
   "execution_count": 6,
   "id": "4516da5a",
   "metadata": {
    "execution": {
     "iopub.execute_input": "2023-10-13T21:53:31.519795Z",
     "iopub.status.busy": "2023-10-13T21:53:31.519220Z",
     "iopub.status.idle": "2023-10-13T21:53:31.734864Z",
     "shell.execute_reply": "2023-10-13T21:53:31.733912Z"
    },
    "papermill": {
     "duration": 0.229352,
     "end_time": "2023-10-13T21:53:31.737167",
     "exception": false,
     "start_time": "2023-10-13T21:53:31.507815",
     "status": "completed"
    },
    "tags": []
   },
   "outputs": [],
   "source": [
    "df.drop(columns='Unnamed: 0',axis=1,inplace=True)"
   ]
  },
  {
   "cell_type": "code",
   "execution_count": 7,
   "id": "c3536c58",
   "metadata": {
    "execution": {
     "iopub.execute_input": "2023-10-13T21:53:31.759147Z",
     "iopub.status.busy": "2023-10-13T21:53:31.758775Z",
     "iopub.status.idle": "2023-10-13T21:53:32.485189Z",
     "shell.execute_reply": "2023-10-13T21:53:32.483642Z"
    },
    "papermill": {
     "duration": 0.740174,
     "end_time": "2023-10-13T21:53:32.487582",
     "exception": false,
     "start_time": "2023-10-13T21:53:31.747408",
     "status": "completed"
    },
    "tags": []
   },
   "outputs": [
    {
     "name": "stdout",
     "output_type": "stream",
     "text": [
      "<class 'pandas.core.frame.DataFrame'>\n",
      "RangeIndex: 1296675 entries, 0 to 1296674\n",
      "Data columns (total 22 columns):\n",
      " #   Column                 Non-Null Count    Dtype  \n",
      "---  ------                 --------------    -----  \n",
      " 0   trans_date_trans_time  1296675 non-null  object \n",
      " 1   cc_num                 1296675 non-null  int64  \n",
      " 2   merchant               1296675 non-null  object \n",
      " 3   category               1296675 non-null  object \n",
      " 4   amt                    1296675 non-null  float64\n",
      " 5   first                  1296675 non-null  object \n",
      " 6   last                   1296675 non-null  object \n",
      " 7   gender                 1296675 non-null  object \n",
      " 8   street                 1296675 non-null  object \n",
      " 9   city                   1296675 non-null  object \n",
      " 10  state                  1296675 non-null  object \n",
      " 11  zip                    1296675 non-null  int64  \n",
      " 12  lat                    1296675 non-null  float64\n",
      " 13  long                   1296675 non-null  float64\n",
      " 14  city_pop               1296675 non-null  int64  \n",
      " 15  job                    1296675 non-null  object \n",
      " 16  dob                    1296675 non-null  object \n",
      " 17  trans_num              1296675 non-null  object \n",
      " 18  unix_time              1296675 non-null  int64  \n",
      " 19  merch_lat              1296675 non-null  float64\n",
      " 20  merch_long             1296675 non-null  float64\n",
      " 21  is_fraud               1296675 non-null  int64  \n",
      "dtypes: float64(5), int64(5), object(12)\n",
      "memory usage: 217.6+ MB\n"
     ]
    }
   ],
   "source": [
    "df.info()"
   ]
  },
  {
   "cell_type": "code",
   "execution_count": 8,
   "id": "a40fc4be",
   "metadata": {
    "execution": {
     "iopub.execute_input": "2023-10-13T21:53:32.511002Z",
     "iopub.status.busy": "2023-10-13T21:53:32.510589Z",
     "iopub.status.idle": "2023-10-13T21:53:33.227798Z",
     "shell.execute_reply": "2023-10-13T21:53:33.226877Z"
    },
    "papermill": {
     "duration": 0.731709,
     "end_time": "2023-10-13T21:53:33.230121",
     "exception": false,
     "start_time": "2023-10-13T21:53:32.498412",
     "status": "completed"
    },
    "tags": []
   },
   "outputs": [
    {
     "data": {
      "text/plain": [
       "trans_date_trans_time    0\n",
       "cc_num                   0\n",
       "merchant                 0\n",
       "category                 0\n",
       "amt                      0\n",
       "first                    0\n",
       "last                     0\n",
       "gender                   0\n",
       "street                   0\n",
       "city                     0\n",
       "state                    0\n",
       "zip                      0\n",
       "lat                      0\n",
       "long                     0\n",
       "city_pop                 0\n",
       "job                      0\n",
       "dob                      0\n",
       "trans_num                0\n",
       "unix_time                0\n",
       "merch_lat                0\n",
       "merch_long               0\n",
       "is_fraud                 0\n",
       "dtype: int64"
      ]
     },
     "execution_count": 8,
     "metadata": {},
     "output_type": "execute_result"
    }
   ],
   "source": [
    "df.isnull().sum()"
   ]
  },
  {
   "cell_type": "code",
   "execution_count": 9,
   "id": "4867fb14",
   "metadata": {
    "execution": {
     "iopub.execute_input": "2023-10-13T21:53:33.252391Z",
     "iopub.status.busy": "2023-10-13T21:53:33.252056Z",
     "iopub.status.idle": "2023-10-13T21:53:36.503706Z",
     "shell.execute_reply": "2023-10-13T21:53:36.502805Z"
    },
    "papermill": {
     "duration": 3.26562,
     "end_time": "2023-10-13T21:53:36.506003",
     "exception": false,
     "start_time": "2023-10-13T21:53:33.240383",
     "status": "completed"
    },
    "tags": []
   },
   "outputs": [],
   "source": [
    "df.drop_duplicates(inplace=True)"
   ]
  },
  {
   "cell_type": "code",
   "execution_count": 10,
   "id": "53b9c662",
   "metadata": {
    "execution": {
     "iopub.execute_input": "2023-10-13T21:53:36.531111Z",
     "iopub.status.busy": "2023-10-13T21:53:36.530722Z",
     "iopub.status.idle": "2023-10-13T21:53:36.536645Z",
     "shell.execute_reply": "2023-10-13T21:53:36.535656Z"
    },
    "papermill": {
     "duration": 0.020618,
     "end_time": "2023-10-13T21:53:36.538786",
     "exception": false,
     "start_time": "2023-10-13T21:53:36.518168",
     "status": "completed"
    },
    "tags": []
   },
   "outputs": [
    {
     "data": {
      "text/plain": [
       "(1296675, 22)"
      ]
     },
     "execution_count": 10,
     "metadata": {},
     "output_type": "execute_result"
    }
   ],
   "source": [
    "df.shape"
   ]
  },
  {
   "cell_type": "code",
   "execution_count": 11,
   "id": "e67b43dd",
   "metadata": {
    "execution": {
     "iopub.execute_input": "2023-10-13T21:53:36.561340Z",
     "iopub.status.busy": "2023-10-13T21:53:36.560998Z",
     "iopub.status.idle": "2023-10-13T21:53:36.583004Z",
     "shell.execute_reply": "2023-10-13T21:53:36.582127Z"
    },
    "papermill": {
     "duration": 0.036073,
     "end_time": "2023-10-13T21:53:36.585346",
     "exception": false,
     "start_time": "2023-10-13T21:53:36.549273",
     "status": "completed"
    },
    "tags": []
   },
   "outputs": [],
   "source": [
    "df['lat_dis']=df['lat']-df['merch_lat']\n",
    "df['long_dis']=df['long']-df['merch_long']"
   ]
  },
  {
   "cell_type": "code",
   "execution_count": 12,
   "id": "12ba1447",
   "metadata": {
    "execution": {
     "iopub.execute_input": "2023-10-13T21:53:36.668727Z",
     "iopub.status.busy": "2023-10-13T21:53:36.668146Z",
     "iopub.status.idle": "2023-10-13T21:53:36.935191Z",
     "shell.execute_reply": "2023-10-13T21:53:36.934189Z"
    },
    "papermill": {
     "duration": 0.341664,
     "end_time": "2023-10-13T21:53:36.937718",
     "exception": false,
     "start_time": "2023-10-13T21:53:36.596054",
     "status": "completed"
    },
    "tags": []
   },
   "outputs": [],
   "source": [
    "df.drop(columns=['lat','long','merch_lat','merch_long'],axis=1,inplace=True)"
   ]
  },
  {
   "cell_type": "code",
   "execution_count": 13,
   "id": "68271da2",
   "metadata": {
    "execution": {
     "iopub.execute_input": "2023-10-13T21:53:36.961267Z",
     "iopub.status.busy": "2023-10-13T21:53:36.960531Z",
     "iopub.status.idle": "2023-10-13T21:53:36.965973Z",
     "shell.execute_reply": "2023-10-13T21:53:36.965227Z"
    },
    "papermill": {
     "duration": 0.019402,
     "end_time": "2023-10-13T21:53:36.967954",
     "exception": false,
     "start_time": "2023-10-13T21:53:36.948552",
     "status": "completed"
    },
    "tags": []
   },
   "outputs": [
    {
     "data": {
      "text/plain": [
       "(1296675, 20)"
      ]
     },
     "execution_count": 13,
     "metadata": {},
     "output_type": "execute_result"
    }
   ],
   "source": [
    "df.shape"
   ]
  },
  {
   "cell_type": "code",
   "execution_count": 14,
   "id": "b0e35e76",
   "metadata": {
    "execution": {
     "iopub.execute_input": "2023-10-13T21:53:36.991606Z",
     "iopub.status.busy": "2023-10-13T21:53:36.990695Z",
     "iopub.status.idle": "2023-10-13T21:53:37.694383Z",
     "shell.execute_reply": "2023-10-13T21:53:37.693340Z"
    },
    "papermill": {
     "duration": 0.718209,
     "end_time": "2023-10-13T21:53:37.696899",
     "exception": false,
     "start_time": "2023-10-13T21:53:36.978690",
     "status": "completed"
    },
    "tags": []
   },
   "outputs": [
    {
     "data": {
      "text/plain": [
       "trans_date_trans_time    0\n",
       "cc_num                   0\n",
       "merchant                 0\n",
       "category                 0\n",
       "amt                      0\n",
       "first                    0\n",
       "last                     0\n",
       "gender                   0\n",
       "street                   0\n",
       "city                     0\n",
       "state                    0\n",
       "zip                      0\n",
       "city_pop                 0\n",
       "job                      0\n",
       "dob                      0\n",
       "trans_num                0\n",
       "unix_time                0\n",
       "is_fraud                 0\n",
       "lat_dis                  0\n",
       "long_dis                 0\n",
       "dtype: int64"
      ]
     },
     "execution_count": 14,
     "metadata": {},
     "output_type": "execute_result"
    }
   ],
   "source": [
    "df.isnull().sum()"
   ]
  },
  {
   "cell_type": "code",
   "execution_count": 15,
   "id": "c9463734",
   "metadata": {
    "execution": {
     "iopub.execute_input": "2023-10-13T21:53:37.720775Z",
     "iopub.status.busy": "2023-10-13T21:53:37.719967Z",
     "iopub.status.idle": "2023-10-13T21:54:06.989670Z",
     "shell.execute_reply": "2023-10-13T21:54:06.988554Z"
    },
    "papermill": {
     "duration": 29.283849,
     "end_time": "2023-10-13T21:54:06.991819",
     "exception": false,
     "start_time": "2023-10-13T21:53:37.707970",
     "status": "completed"
    },
    "tags": []
   },
   "outputs": [
    {
     "data": {
      "text/plain": [
       "<Axes: xlabel='gender', ylabel='is_fraud'>"
      ]
     },
     "execution_count": 15,
     "metadata": {},
     "output_type": "execute_result"
    },
    {
     "data": {
      "image/png": "[encoded data removed]",
      "text/plain": [
       "<Figure size 640x480 with 1 Axes>"
      ]
     },
     "metadata": {},
     "output_type": "display_data"
    }
   ],
   "source": [
    "sns.barplot(x=df['gender'],y=df['is_fraud'])"
   ]
  },
  {
   "cell_type": "markdown",
   "id": "023bb5ba",
   "metadata": {
    "papermill": {
     "duration": 0.011022,
     "end_time": "2023-10-13T21:54:07.014433",
     "exception": false,
     "start_time": "2023-10-13T21:54:07.003411",
     "status": "completed"
    },
    "tags": []
   },
   "source": [
    "as we see male is more than female"
   ]
  },
  {
   "cell_type": "code",
   "execution_count": 16,
   "id": "9aa3aa8e",
   "metadata": {
    "execution": {
     "iopub.execute_input": "2023-10-13T21:54:07.038624Z",
     "iopub.status.busy": "2023-10-13T21:54:07.037974Z",
     "iopub.status.idle": "2023-10-13T21:54:23.432197Z",
     "shell.execute_reply": "2023-10-13T21:54:23.431159Z"
    },
    "papermill": {
     "duration": 16.408988,
     "end_time": "2023-10-13T21:54:23.434455",
     "exception": false,
     "start_time": "2023-10-13T21:54:07.025467",
     "status": "completed"
    },
    "tags": []
   },
   "outputs": [
    {
     "data": {
      "text/plain": [
       "(array([ 0,  1,  2,  3,  4,  5,  6,  7,  8,  9, 10, 11, 12, 13]),\n",
       " [Text(0, 0, 'misc_net'),\n",
       "  Text(1, 0, 'grocery_pos'),\n",
       "  Text(2, 0, 'entertainment'),\n",
       "  Text(3, 0, 'gas_transport'),\n",
       "  Text(4, 0, 'misc_pos'),\n",
       "  Text(5, 0, 'grocery_net'),\n",
       "  Text(6, 0, 'shopping_net'),\n",
       "  Text(7, 0, 'shopping_pos'),\n",
       "  Text(8, 0, 'food_dining'),\n",
       "  Text(9, 0, 'personal_care'),\n",
       "  Text(10, 0, 'health_fitness'),\n",
       "  Text(11, 0, 'travel'),\n",
       "  Text(12, 0, 'kids_pets'),\n",
       "  Text(13, 0, 'home')])"
      ]
     },
     "execution_count": 16,
     "metadata": {},
     "output_type": "execute_result"
    },
    {
     "data": {
      "image/png": "[encoded data removed]",
      "text/plain": [
       "<Figure size 640x480 with 1 Axes>"
      ]
     },
     "metadata": {},
     "output_type": "display_data"
    }
   ],
   "source": [
    "sns.barplot(x=df['category'],y=df['is_fraud'])\n",
    "plt.xticks(rotation=90)"
   ]
  },
  {
   "cell_type": "code",
   "execution_count": 17,
   "id": "fba57ebc",
   "metadata": {
    "execution": {
     "iopub.execute_input": "2023-10-13T21:54:23.459960Z",
     "iopub.status.busy": "2023-10-13T21:54:23.459574Z",
     "iopub.status.idle": "2023-10-13T21:54:28.850274Z",
     "shell.execute_reply": "2023-10-13T21:54:28.849075Z"
    },
    "papermill": {
     "duration": 5.406173,
     "end_time": "2023-10-13T21:54:28.852360",
     "exception": false,
     "start_time": "2023-10-13T21:54:23.446187",
     "status": "completed"
    },
    "tags": []
   },
   "outputs": [
    {
     "name": "stderr",
     "output_type": "stream",
     "text": [
      "/tmp/ipykernel_20/2391342688.py:1: UserWarning: \n",
      "\n",
      "`distplot` is a deprecated function and will be removed in seaborn v0.14.0.\n",
      "\n",
      "Please adapt your code to use either `displot` (a figure-level function with\n",
      "similar flexibility) or `histplot` (an axes-level function for histograms).\n",
      "\n",
      "For a guide to updating your code to use the new functions, please see\n",
      "https://gist.github.com/mwaskom/de44147ed2974457ad6372750bbe5751\n",
      "\n",
      "  sns.distplot(df['amt'],kde=True)\n"
     ]
    },
    {
     "data": {
      "text/plain": [
       "<Axes: xlabel='amt', ylabel='Density'>"
      ]
     },
     "execution_count": 17,
     "metadata": {},
     "output_type": "execute_result"
    },
    {
     "data": {
      "image/png": "[encoded data removed]",
      "text/plain": [
       "<Figure size 640x480 with 1 Axes>"
      ]
     },
     "metadata": {},
     "output_type": "display_data"
    }
   ],
   "source": [
    "sns.distplot(df['amt'],kde=True)"
   ]
  },
  {
   "cell_type": "code",
   "execution_count": 18,
   "id": "c51683be",
   "metadata": {
    "execution": {
     "iopub.execute_input": "2023-10-13T21:54:28.880162Z",
     "iopub.status.busy": "2023-10-13T21:54:28.879779Z",
     "iopub.status.idle": "2023-10-13T21:54:31.195400Z",
     "shell.execute_reply": "2023-10-13T21:54:31.194182Z"
    },
    "papermill": {
     "duration": 2.332952,
     "end_time": "2023-10-13T21:54:31.197968",
     "exception": false,
     "start_time": "2023-10-13T21:54:28.865016",
     "status": "completed"
    },
    "tags": []
   },
   "outputs": [],
   "source": [
    "df['trans_date_trans_time']=pd.to_datetime(df['trans_date_trans_time'])\n",
    "df['trans_date_trans_time']=df['trans_date_trans_time'].dt.strftime('%Y-%m-%d')\n",
    "df['trans_date_trans_time']=pd.to_datetime(df['trans_date_trans_time'])\n",
    "df['dob']=pd.to_datetime(df['dob'])\n",
    "df['age']=df['dob'].dt.year\n",
    "#df[\"age\"] = (df[\"trans_date_trans_time\"] - df[\"dob\"]).dt.days //365\n",
    "df['trans_month']=df['trans_date_trans_time'].dt.month\n",
    "df['trans_year']=df['trans_date_trans_time'].dt.year"
   ]
  },
  {
   "cell_type": "code",
   "execution_count": 19,
   "id": "6d433fec",
   "metadata": {
    "execution": {
     "iopub.execute_input": "2023-10-13T21:54:31.224937Z",
     "iopub.status.busy": "2023-10-13T21:54:31.223902Z",
     "iopub.status.idle": "2023-10-13T21:54:31.241641Z",
     "shell.execute_reply": "2023-10-13T21:54:31.240639Z"
    },
    "papermill": {
     "duration": 0.03327,
     "end_time": "2023-10-13T21:54:31.243655",
     "exception": false,
     "start_time": "2023-10-13T21:54:31.210385",
     "status": "completed"
    },
    "tags": []
   },
   "outputs": [
    {
     "data": {
      "text/plain": [
       "age\n",
       "1972    45483\n",
       "1984    40038\n",
       "1987    37481\n",
       "1985    37313\n",
       "1974    34299\n",
       "        ...  \n",
       "1933     3041\n",
       "1932     2096\n",
       "2005     1959\n",
       "1924      536\n",
       "1925       11\n",
       "Name: count, Length: 81, dtype: int64"
      ]
     },
     "execution_count": 19,
     "metadata": {},
     "output_type": "execute_result"
    }
   ],
   "source": [
    "df['age'].value_counts()"
   ]
  },
  {
   "cell_type": "code",
   "execution_count": 20,
   "id": "ce7aa430",
   "metadata": {
    "execution": {
     "iopub.execute_input": "2023-10-13T21:54:31.271557Z",
     "iopub.status.busy": "2023-10-13T21:54:31.270548Z",
     "iopub.status.idle": "2023-10-13T21:54:31.302074Z",
     "shell.execute_reply": "2023-10-13T21:54:31.300940Z"
    },
    "papermill": {
     "duration": 0.04793,
     "end_time": "2023-10-13T21:54:31.304467",
     "exception": false,
     "start_time": "2023-10-13T21:54:31.256537",
     "status": "completed"
    },
    "tags": []
   },
   "outputs": [
    {
     "data": {
      "text/html": [
       "<div>\n",
       "<style scoped>\n",
       "    .dataframe tbody tr th:only-of-type {\n",
       "        vertical-align: middle;\n",
       "    }\n",
       "\n",
       "    .dataframe tbody tr th {\n",
       "        vertical-align: top;\n",
       "    }\n",
       "\n",
       "    .dataframe thead th {\n",
       "        text-align: right;\n",
       "    }\n",
       "</style>\n",
       "<table border=\"1\" class=\"dataframe\">\n",
       "  <thead>\n",
       "    <tr style=\"text-align: right;\">\n",
       "      <th></th>\n",
       "      <th>is_fraud</th>\n",
       "    </tr>\n",
       "  </thead>\n",
       "  <tbody>\n",
       "    <tr>\n",
       "      <th>count</th>\n",
       "      <td>81.000000</td>\n",
       "    </tr>\n",
       "    <tr>\n",
       "      <th>mean</th>\n",
       "      <td>92.666667</td>\n",
       "    </tr>\n",
       "    <tr>\n",
       "      <th>std</th>\n",
       "      <td>51.201807</td>\n",
       "    </tr>\n",
       "    <tr>\n",
       "      <th>min</th>\n",
       "      <td>0.000000</td>\n",
       "    </tr>\n",
       "    <tr>\n",
       "      <th>25%</th>\n",
       "      <td>47.000000</td>\n",
       "    </tr>\n",
       "    <tr>\n",
       "      <th>50%</th>\n",
       "      <td>90.000000</td>\n",
       "    </tr>\n",
       "    <tr>\n",
       "      <th>75%</th>\n",
       "      <td>131.000000</td>\n",
       "    </tr>\n",
       "    <tr>\n",
       "      <th>max</th>\n",
       "      <td>195.000000</td>\n",
       "    </tr>\n",
       "  </tbody>\n",
       "</table>\n",
       "</div>"
      ],
      "text/plain": [
       "         is_fraud\n",
       "count   81.000000\n",
       "mean    92.666667\n",
       "std     51.201807\n",
       "min      0.000000\n",
       "25%     47.000000\n",
       "50%     90.000000\n",
       "75%    131.000000\n",
       "max    195.000000"
      ]
     },
     "execution_count": 20,
     "metadata": {},
     "output_type": "execute_result"
    }
   ],
   "source": [
    "c=df.groupby(['age'])['is_fraud'].sum()\n",
    "c=pd.DataFrame(c)\n",
    "c.describe()"
   ]
  },
  {
   "cell_type": "code",
   "execution_count": 21,
   "id": "f73e490c",
   "metadata": {
    "execution": {
     "iopub.execute_input": "2023-10-13T21:54:31.331382Z",
     "iopub.status.busy": "2023-10-13T21:54:31.331006Z",
     "iopub.status.idle": "2023-10-13T21:54:31.337731Z",
     "shell.execute_reply": "2023-10-13T21:54:31.336673Z"
    },
    "papermill": {
     "duration": 0.022283,
     "end_time": "2023-10-13T21:54:31.339529",
     "exception": false,
     "start_time": "2023-10-13T21:54:31.317246",
     "status": "completed"
    },
    "tags": []
   },
   "outputs": [
    {
     "data": {
      "text/plain": [
       "Index(['trans_date_trans_time', 'cc_num', 'merchant', 'category', 'amt',\n",
       "       'first', 'last', 'gender', 'street', 'city', 'state', 'zip', 'city_pop',\n",
       "       'job', 'dob', 'trans_num', 'unix_time', 'is_fraud', 'lat_dis',\n",
       "       'long_dis', 'age', 'trans_month', 'trans_year'],\n",
       "      dtype='object')"
      ]
     },
     "execution_count": 21,
     "metadata": {},
     "output_type": "execute_result"
    }
   ],
   "source": [
    "df.columns"
   ]
  },
  {
   "cell_type": "code",
   "execution_count": 22,
   "id": "10c5a788",
   "metadata": {
    "execution": {
     "iopub.execute_input": "2023-10-13T21:54:31.367285Z",
     "iopub.status.busy": "2023-10-13T21:54:31.366903Z",
     "iopub.status.idle": "2023-10-13T21:54:31.547682Z",
     "shell.execute_reply": "2023-10-13T21:54:31.546906Z"
    },
    "papermill": {
     "duration": 0.197268,
     "end_time": "2023-10-13T21:54:31.550003",
     "exception": false,
     "start_time": "2023-10-13T21:54:31.352735",
     "status": "completed"
    },
    "tags": []
   },
   "outputs": [],
   "source": [
    "df.drop(columns=['trans_num', 'merchant','first', 'last', 'street','unix_time'],axis=1,inplace=True)"
   ]
  },
  {
   "cell_type": "code",
   "execution_count": 23,
   "id": "f70469ef",
   "metadata": {
    "execution": {
     "iopub.execute_input": "2023-10-13T21:54:31.577886Z",
     "iopub.status.busy": "2023-10-13T21:54:31.577492Z",
     "iopub.status.idle": "2023-10-13T21:54:31.708383Z",
     "shell.execute_reply": "2023-10-13T21:54:31.707229Z"
    },
    "papermill": {
     "duration": 0.147673,
     "end_time": "2023-10-13T21:54:31.710774",
     "exception": false,
     "start_time": "2023-10-13T21:54:31.563101",
     "status": "completed"
    },
    "tags": []
   },
   "outputs": [],
   "source": [
    "df.drop(columns=['dob'],axis=1,inplace=True)"
   ]
  },
  {
   "cell_type": "code",
   "execution_count": 24,
   "id": "b7acd01f",
   "metadata": {
    "execution": {
     "iopub.execute_input": "2023-10-13T21:54:31.738814Z",
     "iopub.status.busy": "2023-10-13T21:54:31.738419Z",
     "iopub.status.idle": "2023-10-13T21:54:31.745097Z",
     "shell.execute_reply": "2023-10-13T21:54:31.744003Z"
    },
    "papermill": {
     "duration": 0.023149,
     "end_time": "2023-10-13T21:54:31.747249",
     "exception": false,
     "start_time": "2023-10-13T21:54:31.724100",
     "status": "completed"
    },
    "tags": []
   },
   "outputs": [
    {
     "data": {
      "text/plain": [
       "Index(['trans_date_trans_time', 'cc_num', 'category', 'amt', 'gender', 'city',\n",
       "       'state', 'zip', 'city_pop', 'job', 'is_fraud', 'lat_dis', 'long_dis',\n",
       "       'age', 'trans_month', 'trans_year'],\n",
       "      dtype='object')"
      ]
     },
     "execution_count": 24,
     "metadata": {},
     "output_type": "execute_result"
    }
   ],
   "source": [
    "df.columns"
   ]
  },
  {
   "cell_type": "code",
   "execution_count": 25,
   "id": "df25b6b2",
   "metadata": {
    "execution": {
     "iopub.execute_input": "2023-10-13T21:54:31.777985Z",
     "iopub.status.busy": "2023-10-13T21:54:31.776881Z",
     "iopub.status.idle": "2023-10-13T21:54:31.793020Z",
     "shell.execute_reply": "2023-10-13T21:54:31.792303Z"
    },
    "papermill": {
     "duration": 0.033832,
     "end_time": "2023-10-13T21:54:31.794839",
     "exception": false,
     "start_time": "2023-10-13T21:54:31.761007",
     "status": "completed"
    },
    "tags": []
   },
   "outputs": [
    {
     "data": {
      "text/plain": [
       "age\n",
       "1972    45483\n",
       "1984    40038\n",
       "1987    37481\n",
       "1985    37313\n",
       "1974    34299\n",
       "        ...  \n",
       "1933     3041\n",
       "1932     2096\n",
       "2005     1959\n",
       "1924      536\n",
       "1925       11\n",
       "Name: count, Length: 81, dtype: int64"
      ]
     },
     "execution_count": 25,
     "metadata": {},
     "output_type": "execute_result"
    }
   ],
   "source": [
    "df['age'].value_counts().sort_values(ascending=False)"
   ]
  },
  {
   "cell_type": "code",
   "execution_count": 26,
   "id": "77cfeb13",
   "metadata": {
    "execution": {
     "iopub.execute_input": "2023-10-13T21:54:31.822425Z",
     "iopub.status.busy": "2023-10-13T21:54:31.821762Z",
     "iopub.status.idle": "2023-10-13T21:54:31.955206Z",
     "shell.execute_reply": "2023-10-13T21:54:31.953887Z"
    },
    "papermill": {
     "duration": 0.149655,
     "end_time": "2023-10-13T21:54:31.957330",
     "exception": false,
     "start_time": "2023-10-13T21:54:31.807675",
     "status": "completed"
    },
    "tags": []
   },
   "outputs": [
    {
     "data": {
      "text/html": [
       "<div>\n",
       "<style scoped>\n",
       "    .dataframe tbody tr th:only-of-type {\n",
       "        vertical-align: middle;\n",
       "    }\n",
       "\n",
       "    .dataframe tbody tr th {\n",
       "        vertical-align: top;\n",
       "    }\n",
       "\n",
       "    .dataframe thead th {\n",
       "        text-align: right;\n",
       "    }\n",
       "</style>\n",
       "<table border=\"1\" class=\"dataframe\">\n",
       "  <thead>\n",
       "    <tr style=\"text-align: right;\">\n",
       "      <th></th>\n",
       "      <th>trans_date_trans_time</th>\n",
       "      <th>cc_num</th>\n",
       "      <th>category</th>\n",
       "      <th>amt</th>\n",
       "      <th>gender</th>\n",
       "      <th>city</th>\n",
       "      <th>state</th>\n",
       "      <th>zip</th>\n",
       "      <th>city_pop</th>\n",
       "      <th>job</th>\n",
       "      <th>is_fraud</th>\n",
       "      <th>lat_dis</th>\n",
       "      <th>long_dis</th>\n",
       "      <th>trans_month</th>\n",
       "      <th>trans_year</th>\n",
       "      <th>age2</th>\n",
       "    </tr>\n",
       "  </thead>\n",
       "  <tbody>\n",
       "    <tr>\n",
       "      <th>0</th>\n",
       "      <td>2019-01-01</td>\n",
       "      <td>2703186189652095</td>\n",
       "      <td>misc_net</td>\n",
       "      <td>4.97</td>\n",
       "      <td>F</td>\n",
       "      <td>Moravian Falls</td>\n",
       "      <td>NC</td>\n",
       "      <td>28654</td>\n",
       "      <td>3495</td>\n",
       "      <td>Psychologist, counselling</td>\n",
       "      <td>0</td>\n",
       "      <td>0.067507</td>\n",
       "      <td>0.870215</td>\n",
       "      <td>1</td>\n",
       "      <td>2019</td>\n",
       "      <td>31</td>\n",
       "    </tr>\n",
       "    <tr>\n",
       "      <th>1</th>\n",
       "      <td>2019-01-01</td>\n",
       "      <td>630423337322</td>\n",
       "      <td>grocery_pos</td>\n",
       "      <td>107.23</td>\n",
       "      <td>F</td>\n",
       "      <td>Orient</td>\n",
       "      <td>WA</td>\n",
       "      <td>99160</td>\n",
       "      <td>149</td>\n",
       "      <td>Special educational needs teacher</td>\n",
       "      <td>0</td>\n",
       "      <td>-0.271247</td>\n",
       "      <td>-0.024038</td>\n",
       "      <td>1</td>\n",
       "      <td>2019</td>\n",
       "      <td>41</td>\n",
       "    </tr>\n",
       "    <tr>\n",
       "      <th>2</th>\n",
       "      <td>2019-01-01</td>\n",
       "      <td>38859492057661</td>\n",
       "      <td>entertainment</td>\n",
       "      <td>220.11</td>\n",
       "      <td>M</td>\n",
       "      <td>Malad City</td>\n",
       "      <td>ID</td>\n",
       "      <td>83252</td>\n",
       "      <td>4154</td>\n",
       "      <td>Nature conservation officer</td>\n",
       "      <td>0</td>\n",
       "      <td>-0.969904</td>\n",
       "      <td>-0.107519</td>\n",
       "      <td>1</td>\n",
       "      <td>2019</td>\n",
       "      <td>57</td>\n",
       "    </tr>\n",
       "    <tr>\n",
       "      <th>3</th>\n",
       "      <td>2019-01-01</td>\n",
       "      <td>3534093764340240</td>\n",
       "      <td>gas_transport</td>\n",
       "      <td>45.00</td>\n",
       "      <td>M</td>\n",
       "      <td>Boulder</td>\n",
       "      <td>MT</td>\n",
       "      <td>59632</td>\n",
       "      <td>1939</td>\n",
       "      <td>Patent attorney</td>\n",
       "      <td>0</td>\n",
       "      <td>-0.803731</td>\n",
       "      <td>0.447271</td>\n",
       "      <td>1</td>\n",
       "      <td>2019</td>\n",
       "      <td>52</td>\n",
       "    </tr>\n",
       "    <tr>\n",
       "      <th>4</th>\n",
       "      <td>2019-01-01</td>\n",
       "      <td>375534208663984</td>\n",
       "      <td>misc_pos</td>\n",
       "      <td>41.96</td>\n",
       "      <td>M</td>\n",
       "      <td>Doe Hill</td>\n",
       "      <td>VA</td>\n",
       "      <td>24433</td>\n",
       "      <td>99</td>\n",
       "      <td>Dance movement psychotherapist</td>\n",
       "      <td>0</td>\n",
       "      <td>-0.254299</td>\n",
       "      <td>-0.830441</td>\n",
       "      <td>1</td>\n",
       "      <td>2019</td>\n",
       "      <td>33</td>\n",
       "    </tr>\n",
       "    <tr>\n",
       "      <th>...</th>\n",
       "      <td>...</td>\n",
       "      <td>...</td>\n",
       "      <td>...</td>\n",
       "      <td>...</td>\n",
       "      <td>...</td>\n",
       "      <td>...</td>\n",
       "      <td>...</td>\n",
       "      <td>...</td>\n",
       "      <td>...</td>\n",
       "      <td>...</td>\n",
       "      <td>...</td>\n",
       "      <td>...</td>\n",
       "      <td>...</td>\n",
       "      <td>...</td>\n",
       "      <td>...</td>\n",
       "      <td>...</td>\n",
       "    </tr>\n",
       "    <tr>\n",
       "      <th>1296670</th>\n",
       "      <td>2020-06-21</td>\n",
       "      <td>30263540414123</td>\n",
       "      <td>entertainment</td>\n",
       "      <td>15.56</td>\n",
       "      <td>M</td>\n",
       "      <td>Hatch</td>\n",
       "      <td>UT</td>\n",
       "      <td>84735</td>\n",
       "      <td>258</td>\n",
       "      <td>Geoscientist</td>\n",
       "      <td>0</td>\n",
       "      <td>0.876234</td>\n",
       "      <td>-0.786935</td>\n",
       "      <td>6</td>\n",
       "      <td>2020</td>\n",
       "      <td>59</td>\n",
       "    </tr>\n",
       "    <tr>\n",
       "      <th>1296671</th>\n",
       "      <td>2020-06-21</td>\n",
       "      <td>6011149206456997</td>\n",
       "      <td>food_dining</td>\n",
       "      <td>51.70</td>\n",
       "      <td>M</td>\n",
       "      <td>Tuscarora</td>\n",
       "      <td>MD</td>\n",
       "      <td>21790</td>\n",
       "      <td>100</td>\n",
       "      <td>Production assistant, television</td>\n",
       "      <td>0</td>\n",
       "      <td>0.359819</td>\n",
       "      <td>0.736428</td>\n",
       "      <td>6</td>\n",
       "      <td>2020</td>\n",
       "      <td>41</td>\n",
       "    </tr>\n",
       "    <tr>\n",
       "      <th>1296672</th>\n",
       "      <td>2020-06-21</td>\n",
       "      <td>3514865930894695</td>\n",
       "      <td>food_dining</td>\n",
       "      <td>105.93</td>\n",
       "      <td>M</td>\n",
       "      <td>High Rolls Mountain Park</td>\n",
       "      <td>NM</td>\n",
       "      <td>88325</td>\n",
       "      <td>899</td>\n",
       "      <td>Naval architect</td>\n",
       "      <td>0</td>\n",
       "      <td>-0.679913</td>\n",
       "      <td>-0.688371</td>\n",
       "      <td>6</td>\n",
       "      <td>2020</td>\n",
       "      <td>53</td>\n",
       "    </tr>\n",
       "    <tr>\n",
       "      <th>1296673</th>\n",
       "      <td>2020-06-21</td>\n",
       "      <td>2720012583106919</td>\n",
       "      <td>food_dining</td>\n",
       "      <td>74.90</td>\n",
       "      <td>M</td>\n",
       "      <td>Manderson</td>\n",
       "      <td>SD</td>\n",
       "      <td>57756</td>\n",
       "      <td>1126</td>\n",
       "      <td>Volunteer coordinator</td>\n",
       "      <td>0</td>\n",
       "      <td>0.563660</td>\n",
       "      <td>0.700060</td>\n",
       "      <td>6</td>\n",
       "      <td>2020</td>\n",
       "      <td>40</td>\n",
       "    </tr>\n",
       "    <tr>\n",
       "      <th>1296674</th>\n",
       "      <td>2020-06-21</td>\n",
       "      <td>4292902571056973207</td>\n",
       "      <td>food_dining</td>\n",
       "      <td>4.30</td>\n",
       "      <td>M</td>\n",
       "      <td>Sula</td>\n",
       "      <td>MT</td>\n",
       "      <td>59871</td>\n",
       "      <td>218</td>\n",
       "      <td>Therapist, horticultural</td>\n",
       "      <td>0</td>\n",
       "      <td>-0.722683</td>\n",
       "      <td>0.311310</td>\n",
       "      <td>6</td>\n",
       "      <td>2020</td>\n",
       "      <td>25</td>\n",
       "    </tr>\n",
       "  </tbody>\n",
       "</table>\n",
       "<p>1296675 rows × 16 columns</p>\n",
       "</div>"
      ],
      "text/plain": [
       "        trans_date_trans_time               cc_num       category     amt  \\\n",
       "0                  2019-01-01     2703186189652095       misc_net    4.97   \n",
       "1                  2019-01-01         630423337322    grocery_pos  107.23   \n",
       "2                  2019-01-01       38859492057661  entertainment  220.11   \n",
       "3                  2019-01-01     3534093764340240  gas_transport   45.00   \n",
       "4                  2019-01-01      375534208663984       misc_pos   41.96   \n",
       "...                       ...                  ...            ...     ...   \n",
       "1296670            2020-06-21       30263540414123  entertainment   15.56   \n",
       "1296671            2020-06-21     6011149206456997    food_dining   51.70   \n",
       "1296672            2020-06-21     3514865930894695    food_dining  105.93   \n",
       "1296673            2020-06-21     2720012583106919    food_dining   74.90   \n",
       "1296674            2020-06-21  4292902571056973207    food_dining    4.30   \n",
       "\n",
       "        gender                      city state    zip  city_pop  \\\n",
       "0            F            Moravian Falls    NC  28654      3495   \n",
       "1            F                    Orient    WA  99160       149   \n",
       "2            M                Malad City    ID  83252      4154   \n",
       "3            M                   Boulder    MT  59632      1939   \n",
       "4            M                  Doe Hill    VA  24433        99   \n",
       "...        ...                       ...   ...    ...       ...   \n",
       "1296670      M                     Hatch    UT  84735       258   \n",
       "1296671      M                 Tuscarora    MD  21790       100   \n",
       "1296672      M  High Rolls Mountain Park    NM  88325       899   \n",
       "1296673      M                 Manderson    SD  57756      1126   \n",
       "1296674      M                      Sula    MT  59871       218   \n",
       "\n",
       "                                       job  is_fraud   lat_dis  long_dis  \\\n",
       "0                Psychologist, counselling         0  0.067507  0.870215   \n",
       "1        Special educational needs teacher         0 -0.271247 -0.024038   \n",
       "2              Nature conservation officer         0 -0.969904 -0.107519   \n",
       "3                          Patent attorney         0 -0.803731  0.447271   \n",
       "4           Dance movement psychotherapist         0 -0.254299 -0.830441   \n",
       "...                                    ...       ...       ...       ...   \n",
       "1296670                       Geoscientist         0  0.876234 -0.786935   \n",
       "1296671   Production assistant, television         0  0.359819  0.736428   \n",
       "1296672                    Naval architect         0 -0.679913 -0.688371   \n",
       "1296673              Volunteer coordinator         0  0.563660  0.700060   \n",
       "1296674           Therapist, horticultural         0 -0.722683  0.311310   \n",
       "\n",
       "         trans_month  trans_year  age2  \n",
       "0                  1        2019    31  \n",
       "1                  1        2019    41  \n",
       "2                  1        2019    57  \n",
       "3                  1        2019    52  \n",
       "4                  1        2019    33  \n",
       "...              ...         ...   ...  \n",
       "1296670            6        2020    59  \n",
       "1296671            6        2020    41  \n",
       "1296672            6        2020    53  \n",
       "1296673            6        2020    40  \n",
       "1296674            6        2020    25  \n",
       "\n",
       "[1296675 rows x 16 columns]"
      ]
     },
     "execution_count": 26,
     "metadata": {},
     "output_type": "execute_result"
    }
   ],
   "source": [
    "df['age2']=df['trans_year']-df['age']\n",
    "df.drop(columns=['age'],axis=1)"
   ]
  },
  {
   "cell_type": "code",
   "execution_count": 27,
   "id": "783647a9",
   "metadata": {
    "execution": {
     "iopub.execute_input": "2023-10-13T21:54:31.985706Z",
     "iopub.status.busy": "2023-10-13T21:54:31.985349Z",
     "iopub.status.idle": "2023-10-13T21:54:32.001355Z",
     "shell.execute_reply": "2023-10-13T21:54:32.000219Z"
    },
    "papermill": {
     "duration": 0.032837,
     "end_time": "2023-10-13T21:54:32.003585",
     "exception": false,
     "start_time": "2023-10-13T21:54:31.970748",
     "status": "completed"
    },
    "tags": []
   },
   "outputs": [
    {
     "data": {
      "text/html": [
       "<div>\n",
       "<style scoped>\n",
       "    .dataframe tbody tr th:only-of-type {\n",
       "        vertical-align: middle;\n",
       "    }\n",
       "\n",
       "    .dataframe tbody tr th {\n",
       "        vertical-align: top;\n",
       "    }\n",
       "\n",
       "    .dataframe thead th {\n",
       "        text-align: right;\n",
       "    }\n",
       "</style>\n",
       "<table border=\"1\" class=\"dataframe\">\n",
       "  <thead>\n",
       "    <tr style=\"text-align: right;\">\n",
       "      <th></th>\n",
       "      <th>trans_date_trans_time</th>\n",
       "      <th>cc_num</th>\n",
       "      <th>category</th>\n",
       "      <th>amt</th>\n",
       "      <th>gender</th>\n",
       "      <th>city</th>\n",
       "      <th>state</th>\n",
       "      <th>zip</th>\n",
       "      <th>city_pop</th>\n",
       "      <th>job</th>\n",
       "      <th>is_fraud</th>\n",
       "      <th>lat_dis</th>\n",
       "      <th>long_dis</th>\n",
       "      <th>age</th>\n",
       "      <th>trans_month</th>\n",
       "      <th>trans_year</th>\n",
       "      <th>age2</th>\n",
       "    </tr>\n",
       "  </thead>\n",
       "  <tbody>\n",
       "    <tr>\n",
       "      <th>0</th>\n",
       "      <td>2019-01-01</td>\n",
       "      <td>2703186189652095</td>\n",
       "      <td>misc_net</td>\n",
       "      <td>4.97</td>\n",
       "      <td>F</td>\n",
       "      <td>Moravian Falls</td>\n",
       "      <td>NC</td>\n",
       "      <td>28654</td>\n",
       "      <td>3495</td>\n",
       "      <td>Psychologist, counselling</td>\n",
       "      <td>0</td>\n",
       "      <td>0.067507</td>\n",
       "      <td>0.870215</td>\n",
       "      <td>1988</td>\n",
       "      <td>1</td>\n",
       "      <td>2019</td>\n",
       "      <td>31</td>\n",
       "    </tr>\n",
       "    <tr>\n",
       "      <th>1</th>\n",
       "      <td>2019-01-01</td>\n",
       "      <td>630423337322</td>\n",
       "      <td>grocery_pos</td>\n",
       "      <td>107.23</td>\n",
       "      <td>F</td>\n",
       "      <td>Orient</td>\n",
       "      <td>WA</td>\n",
       "      <td>99160</td>\n",
       "      <td>149</td>\n",
       "      <td>Special educational needs teacher</td>\n",
       "      <td>0</td>\n",
       "      <td>-0.271247</td>\n",
       "      <td>-0.024038</td>\n",
       "      <td>1978</td>\n",
       "      <td>1</td>\n",
       "      <td>2019</td>\n",
       "      <td>41</td>\n",
       "    </tr>\n",
       "    <tr>\n",
       "      <th>2</th>\n",
       "      <td>2019-01-01</td>\n",
       "      <td>38859492057661</td>\n",
       "      <td>entertainment</td>\n",
       "      <td>220.11</td>\n",
       "      <td>M</td>\n",
       "      <td>Malad City</td>\n",
       "      <td>ID</td>\n",
       "      <td>83252</td>\n",
       "      <td>4154</td>\n",
       "      <td>Nature conservation officer</td>\n",
       "      <td>0</td>\n",
       "      <td>-0.969904</td>\n",
       "      <td>-0.107519</td>\n",
       "      <td>1962</td>\n",
       "      <td>1</td>\n",
       "      <td>2019</td>\n",
       "      <td>57</td>\n",
       "    </tr>\n",
       "    <tr>\n",
       "      <th>3</th>\n",
       "      <td>2019-01-01</td>\n",
       "      <td>3534093764340240</td>\n",
       "      <td>gas_transport</td>\n",
       "      <td>45.00</td>\n",
       "      <td>M</td>\n",
       "      <td>Boulder</td>\n",
       "      <td>MT</td>\n",
       "      <td>59632</td>\n",
       "      <td>1939</td>\n",
       "      <td>Patent attorney</td>\n",
       "      <td>0</td>\n",
       "      <td>-0.803731</td>\n",
       "      <td>0.447271</td>\n",
       "      <td>1967</td>\n",
       "      <td>1</td>\n",
       "      <td>2019</td>\n",
       "      <td>52</td>\n",
       "    </tr>\n",
       "    <tr>\n",
       "      <th>4</th>\n",
       "      <td>2019-01-01</td>\n",
       "      <td>375534208663984</td>\n",
       "      <td>misc_pos</td>\n",
       "      <td>41.96</td>\n",
       "      <td>M</td>\n",
       "      <td>Doe Hill</td>\n",
       "      <td>VA</td>\n",
       "      <td>24433</td>\n",
       "      <td>99</td>\n",
       "      <td>Dance movement psychotherapist</td>\n",
       "      <td>0</td>\n",
       "      <td>-0.254299</td>\n",
       "      <td>-0.830441</td>\n",
       "      <td>1986</td>\n",
       "      <td>1</td>\n",
       "      <td>2019</td>\n",
       "      <td>33</td>\n",
       "    </tr>\n",
       "  </tbody>\n",
       "</table>\n",
       "</div>"
      ],
      "text/plain": [
       "  trans_date_trans_time            cc_num       category     amt gender  \\\n",
       "0            2019-01-01  2703186189652095       misc_net    4.97      F   \n",
       "1            2019-01-01      630423337322    grocery_pos  107.23      F   \n",
       "2            2019-01-01    38859492057661  entertainment  220.11      M   \n",
       "3            2019-01-01  3534093764340240  gas_transport   45.00      M   \n",
       "4            2019-01-01   375534208663984       misc_pos   41.96      M   \n",
       "\n",
       "             city state    zip  city_pop                                job  \\\n",
       "0  Moravian Falls    NC  28654      3495          Psychologist, counselling   \n",
       "1          Orient    WA  99160       149  Special educational needs teacher   \n",
       "2      Malad City    ID  83252      4154        Nature conservation officer   \n",
       "3         Boulder    MT  59632      1939                    Patent attorney   \n",
       "4        Doe Hill    VA  24433        99     Dance movement psychotherapist   \n",
       "\n",
       "   is_fraud   lat_dis  long_dis   age  trans_month  trans_year  age2  \n",
       "0         0  0.067507  0.870215  1988            1        2019    31  \n",
       "1         0 -0.271247 -0.024038  1978            1        2019    41  \n",
       "2         0 -0.969904 -0.107519  1962            1        2019    57  \n",
       "3         0 -0.803731  0.447271  1967            1        2019    52  \n",
       "4         0 -0.254299 -0.830441  1986            1        2019    33  "
      ]
     },
     "execution_count": 27,
     "metadata": {},
     "output_type": "execute_result"
    }
   ],
   "source": [
    "df.head()"
   ]
  },
  {
   "cell_type": "code",
   "execution_count": 28,
   "id": "ef42e31d",
   "metadata": {
    "execution": {
     "iopub.execute_input": "2023-10-13T21:54:32.032895Z",
     "iopub.status.busy": "2023-10-13T21:54:32.031983Z",
     "iopub.status.idle": "2023-10-13T21:54:37.716319Z",
     "shell.execute_reply": "2023-10-13T21:54:37.715139Z"
    },
    "papermill": {
     "duration": 5.70143,
     "end_time": "2023-10-13T21:54:37.718729",
     "exception": false,
     "start_time": "2023-10-13T21:54:32.017299",
     "status": "completed"
    },
    "tags": []
   },
   "outputs": [
    {
     "name": "stderr",
     "output_type": "stream",
     "text": [
      "/tmp/ipykernel_20/381972344.py:1: UserWarning: \n",
      "\n",
      "`distplot` is a deprecated function and will be removed in seaborn v0.14.0.\n",
      "\n",
      "Please adapt your code to use either `displot` (a figure-level function with\n",
      "similar flexibility) or `histplot` (an axes-level function for histograms).\n",
      "\n",
      "For a guide to updating your code to use the new functions, please see\n",
      "https://gist.github.com/mwaskom/de44147ed2974457ad6372750bbe5751\n",
      "\n",
      "  sns.distplot(df['age2'])\n"
     ]
    },
    {
     "data": {
      "text/plain": [
       "<Axes: xlabel='age2', ylabel='Density'>"
      ]
     },
     "execution_count": 28,
     "metadata": {},
     "output_type": "execute_result"
    },
    {
     "data": {
      "image/png": "[encoded data removed]",
      "text/plain": [
       "<Figure size 640x480 with 1 Axes>"
      ]
     },
     "metadata": {},
     "output_type": "display_data"
    }
   ],
   "source": [
    "sns.distplot(df['age2'])"
   ]
  },
  {
   "cell_type": "code",
   "execution_count": 29,
   "id": "64abfa1a",
   "metadata": {
    "execution": {
     "iopub.execute_input": "2023-10-13T21:54:37.749606Z",
     "iopub.status.busy": "2023-10-13T21:54:37.748576Z",
     "iopub.status.idle": "2023-10-13T21:54:37.778806Z",
     "shell.execute_reply": "2023-10-13T21:54:37.777894Z"
    },
    "papermill": {
     "duration": 0.047964,
     "end_time": "2023-10-13T21:54:37.781088",
     "exception": false,
     "start_time": "2023-10-13T21:54:37.733124",
     "status": "completed"
    },
    "tags": []
   },
   "outputs": [
    {
     "data": {
      "text/html": [
       "<div>\n",
       "<style scoped>\n",
       "    .dataframe tbody tr th:only-of-type {\n",
       "        vertical-align: middle;\n",
       "    }\n",
       "\n",
       "    .dataframe tbody tr th {\n",
       "        vertical-align: top;\n",
       "    }\n",
       "\n",
       "    .dataframe thead th {\n",
       "        text-align: right;\n",
       "    }\n",
       "</style>\n",
       "<table border=\"1\" class=\"dataframe\">\n",
       "  <thead>\n",
       "    <tr style=\"text-align: right;\">\n",
       "      <th></th>\n",
       "      <th>is_fraud</th>\n",
       "    </tr>\n",
       "    <tr>\n",
       "      <th>age2</th>\n",
       "      <th></th>\n",
       "    </tr>\n",
       "  </thead>\n",
       "  <tbody>\n",
       "    <tr>\n",
       "      <th>14</th>\n",
       "      <td>7</td>\n",
       "    </tr>\n",
       "    <tr>\n",
       "      <th>15</th>\n",
       "      <td>16</td>\n",
       "    </tr>\n",
       "    <tr>\n",
       "      <th>16</th>\n",
       "      <td>37</td>\n",
       "    </tr>\n",
       "    <tr>\n",
       "      <th>17</th>\n",
       "      <td>0</td>\n",
       "    </tr>\n",
       "    <tr>\n",
       "      <th>18</th>\n",
       "      <td>58</td>\n",
       "    </tr>\n",
       "    <tr>\n",
       "      <th>...</th>\n",
       "      <td>...</td>\n",
       "    </tr>\n",
       "    <tr>\n",
       "      <th>92</th>\n",
       "      <td>70</td>\n",
       "    </tr>\n",
       "    <tr>\n",
       "      <th>93</th>\n",
       "      <td>16</td>\n",
       "    </tr>\n",
       "    <tr>\n",
       "      <th>94</th>\n",
       "      <td>27</td>\n",
       "    </tr>\n",
       "    <tr>\n",
       "      <th>95</th>\n",
       "      <td>0</td>\n",
       "    </tr>\n",
       "    <tr>\n",
       "      <th>96</th>\n",
       "      <td>0</td>\n",
       "    </tr>\n",
       "  </tbody>\n",
       "</table>\n",
       "<p>83 rows × 1 columns</p>\n",
       "</div>"
      ],
      "text/plain": [
       "      is_fraud\n",
       "age2          \n",
       "14           7\n",
       "15          16\n",
       "16          37\n",
       "17           0\n",
       "18          58\n",
       "...        ...\n",
       "92          70\n",
       "93          16\n",
       "94          27\n",
       "95           0\n",
       "96           0\n",
       "\n",
       "[83 rows x 1 columns]"
      ]
     },
     "execution_count": 29,
     "metadata": {},
     "output_type": "execute_result"
    }
   ],
   "source": [
    "c2=df.groupby(['age2'])['is_fraud'].sum()\n",
    "c2=pd.DataFrame(c2)\n",
    "c2"
   ]
  },
  {
   "cell_type": "code",
   "execution_count": 30,
   "id": "c5661184",
   "metadata": {
    "execution": {
     "iopub.execute_input": "2023-10-13T21:54:37.813041Z",
     "iopub.status.busy": "2023-10-13T21:54:37.812657Z",
     "iopub.status.idle": "2023-10-13T21:54:37.824956Z",
     "shell.execute_reply": "2023-10-13T21:54:37.823804Z"
    },
    "papermill": {
     "duration": 0.030295,
     "end_time": "2023-10-13T21:54:37.827171",
     "exception": false,
     "start_time": "2023-10-13T21:54:37.796876",
     "status": "completed"
    },
    "tags": []
   },
   "outputs": [
    {
     "data": {
      "text/html": [
       "<div>\n",
       "<style scoped>\n",
       "    .dataframe tbody tr th:only-of-type {\n",
       "        vertical-align: middle;\n",
       "    }\n",
       "\n",
       "    .dataframe tbody tr th {\n",
       "        vertical-align: top;\n",
       "    }\n",
       "\n",
       "    .dataframe thead th {\n",
       "        text-align: right;\n",
       "    }\n",
       "</style>\n",
       "<table border=\"1\" class=\"dataframe\">\n",
       "  <thead>\n",
       "    <tr style=\"text-align: right;\">\n",
       "      <th></th>\n",
       "      <th>is_fraud</th>\n",
       "    </tr>\n",
       "  </thead>\n",
       "  <tbody>\n",
       "    <tr>\n",
       "      <th>count</th>\n",
       "      <td>83.000000</td>\n",
       "    </tr>\n",
       "    <tr>\n",
       "      <th>mean</th>\n",
       "      <td>90.433735</td>\n",
       "    </tr>\n",
       "    <tr>\n",
       "      <th>std</th>\n",
       "      <td>53.008787</td>\n",
       "    </tr>\n",
       "    <tr>\n",
       "      <th>min</th>\n",
       "      <td>0.000000</td>\n",
       "    </tr>\n",
       "    <tr>\n",
       "      <th>25%</th>\n",
       "      <td>41.000000</td>\n",
       "    </tr>\n",
       "    <tr>\n",
       "      <th>50%</th>\n",
       "      <td>89.000000</td>\n",
       "    </tr>\n",
       "    <tr>\n",
       "      <th>75%</th>\n",
       "      <td>126.000000</td>\n",
       "    </tr>\n",
       "    <tr>\n",
       "      <th>max</th>\n",
       "      <td>201.000000</td>\n",
       "    </tr>\n",
       "  </tbody>\n",
       "</table>\n",
       "</div>"
      ],
      "text/plain": [
       "         is_fraud\n",
       "count   83.000000\n",
       "mean    90.433735\n",
       "std     53.008787\n",
       "min      0.000000\n",
       "25%     41.000000\n",
       "50%     89.000000\n",
       "75%    126.000000\n",
       "max    201.000000"
      ]
     },
     "execution_count": 30,
     "metadata": {},
     "output_type": "execute_result"
    }
   ],
   "source": [
    "c2.describe()"
   ]
  },
  {
   "cell_type": "code",
   "execution_count": 31,
   "id": "a26cc379",
   "metadata": {
    "execution": {
     "iopub.execute_input": "2023-10-13T21:54:37.857582Z",
     "iopub.status.busy": "2023-10-13T21:54:37.857248Z",
     "iopub.status.idle": "2023-10-13T21:54:37.863773Z",
     "shell.execute_reply": "2023-10-13T21:54:37.862717Z"
    },
    "papermill": {
     "duration": 0.02432,
     "end_time": "2023-10-13T21:54:37.865913",
     "exception": false,
     "start_time": "2023-10-13T21:54:37.841593",
     "status": "completed"
    },
    "tags": []
   },
   "outputs": [
    {
     "data": {
      "text/plain": [
       "Index(['trans_date_trans_time', 'cc_num', 'category', 'amt', 'gender', 'city',\n",
       "       'state', 'zip', 'city_pop', 'job', 'is_fraud', 'lat_dis', 'long_dis',\n",
       "       'age', 'trans_month', 'trans_year', 'age2'],\n",
       "      dtype='object')"
      ]
     },
     "execution_count": 31,
     "metadata": {},
     "output_type": "execute_result"
    }
   ],
   "source": [
    "df.columns"
   ]
  },
  {
   "cell_type": "code",
   "execution_count": 32,
   "id": "93166670",
   "metadata": {
    "execution": {
     "iopub.execute_input": "2023-10-13T21:54:37.896667Z",
     "iopub.status.busy": "2023-10-13T21:54:37.896345Z",
     "iopub.status.idle": "2023-10-13T21:54:39.480154Z",
     "shell.execute_reply": "2023-10-13T21:54:39.479044Z"
    },
    "papermill": {
     "duration": 1.601766,
     "end_time": "2023-10-13T21:54:39.482396",
     "exception": false,
     "start_time": "2023-10-13T21:54:37.880630",
     "status": "completed"
    },
    "tags": []
   },
   "outputs": [],
   "source": [
    "from sklearn.preprocessing import LabelEncoder\n",
    "# Encode categorical features using scikit-learn LabelEncoder\n",
    "encoder = LabelEncoder()\n",
    "df['trans_date_trans_time'] = encoder.fit_transform(df['trans_date_trans_time'])\n",
    "df['category'] = encoder.fit_transform(df['category'])\n",
    "df['gender'] = encoder.fit_transform(df['gender'])\n",
    "df['cc_num'] = encoder.fit_transform(df['cc_num'])\n",
    "df['job'] = encoder.fit_transform(df['job'])\n",
    "df['city'] = encoder.fit_transform(df['city'])\n",
    "df['state'] = encoder.fit_transform(df['state'])"
   ]
  },
  {
   "cell_type": "code",
   "execution_count": 33,
   "id": "dec5f18d",
   "metadata": {
    "execution": {
     "iopub.execute_input": "2023-10-13T21:54:39.513633Z",
     "iopub.status.busy": "2023-10-13T21:54:39.513272Z",
     "iopub.status.idle": "2023-10-13T21:54:40.695555Z",
     "shell.execute_reply": "2023-10-13T21:54:40.694763Z"
    },
    "papermill": {
     "duration": 1.20028,
     "end_time": "2023-10-13T21:54:40.697451",
     "exception": false,
     "start_time": "2023-10-13T21:54:39.497171",
     "status": "completed"
    },
    "tags": []
   },
   "outputs": [
    {
     "data": {
      "text/plain": [
       "trans_date_trans_time   -0.005080\n",
       "cc_num                   0.000392\n",
       "category                 0.020205\n",
       "amt                      0.219404\n",
       "gender                   0.007642\n",
       "city                    -0.002092\n",
       "state                    0.001730\n",
       "zip                     -0.002162\n",
       "city_pop                 0.002136\n",
       "job                     -0.000093\n",
       "is_fraud                 1.000000\n",
       "lat_dis                  0.001245\n",
       "long_dis                -0.000048\n",
       "age                     -0.012378\n",
       "trans_month             -0.012409\n",
       "trans_year               0.003004\n",
       "age2                     0.012453\n",
       "Name: is_fraud, dtype: float64"
      ]
     },
     "execution_count": 33,
     "metadata": {},
     "output_type": "execute_result"
    }
   ],
   "source": [
    "df.corr()['is_fraud']"
   ]
  },
  {
   "cell_type": "code",
   "execution_count": 34,
   "id": "9f8f6c49",
   "metadata": {
    "execution": {
     "iopub.execute_input": "2023-10-13T21:54:40.729281Z",
     "iopub.status.busy": "2023-10-13T21:54:40.728908Z",
     "iopub.status.idle": "2023-10-13T21:54:40.820778Z",
     "shell.execute_reply": "2023-10-13T21:54:40.820014Z"
    },
    "papermill": {
     "duration": 0.11072,
     "end_time": "2023-10-13T21:54:40.823209",
     "exception": false,
     "start_time": "2023-10-13T21:54:40.712489",
     "status": "completed"
    },
    "tags": []
   },
   "outputs": [],
   "source": [
    "scaler = StandardScaler()\n",
    "scaled_data = scaler.fit_transform(df[['age2', 'trans_year', 'amt']])"
   ]
  },
  {
   "cell_type": "code",
   "execution_count": 35,
   "id": "59c8137b",
   "metadata": {
    "execution": {
     "iopub.execute_input": "2023-10-13T21:54:40.854797Z",
     "iopub.status.busy": "2023-10-13T21:54:40.854242Z",
     "iopub.status.idle": "2023-10-13T21:54:40.894550Z",
     "shell.execute_reply": "2023-10-13T21:54:40.893347Z"
    },
    "papermill": {
     "duration": 0.05884,
     "end_time": "2023-10-13T21:54:40.896876",
     "exception": false,
     "start_time": "2023-10-13T21:54:40.838036",
     "status": "completed"
    },
    "tags": []
   },
   "outputs": [],
   "source": [
    "sdf = pd.DataFrame(scaled_data, columns = ['age2', 'trans_year', 'amt'])\n",
    "sdf\n",
    "bf = df\n",
    "bf.loc[:, ['age2', 'trans_year', 'amt']] = sdf[['age2', 'trans_year', 'amt']]"
   ]
  },
  {
   "cell_type": "code",
   "execution_count": 36,
   "id": "3188f76a",
   "metadata": {
    "execution": {
     "iopub.execute_input": "2023-10-13T21:54:40.928497Z",
     "iopub.status.busy": "2023-10-13T21:54:40.928124Z",
     "iopub.status.idle": "2023-10-13T21:54:41.566665Z",
     "shell.execute_reply": "2023-10-13T21:54:41.565445Z"
    },
    "papermill": {
     "duration": 0.657423,
     "end_time": "2023-10-13T21:54:41.569272",
     "exception": false,
     "start_time": "2023-10-13T21:54:40.911849",
     "status": "completed"
    },
    "tags": []
   },
   "outputs": [],
   "source": [
    "X = bf.drop(columns=['is_fraud'])\n",
    "y = bf['is_fraud']\n",
    "from sklearn.model_selection import train_test_split\n",
    "X_train, X_test, y_train, y_test = train_test_split(X, y, test_size=0.2, random_state=42)\n"
   ]
  },
  {
   "cell_type": "code",
   "execution_count": 37,
   "id": "7eef5afe",
   "metadata": {
    "execution": {
     "iopub.execute_input": "2023-10-13T21:54:41.601365Z",
     "iopub.status.busy": "2023-10-13T21:54:41.600884Z",
     "iopub.status.idle": "2023-10-13T21:54:43.305921Z",
     "shell.execute_reply": "2023-10-13T21:54:43.304687Z"
    },
    "papermill": {
     "duration": 1.723954,
     "end_time": "2023-10-13T21:54:43.308403",
     "exception": false,
     "start_time": "2023-10-13T21:54:41.584449",
     "status": "completed"
    },
    "tags": []
   },
   "outputs": [],
   "source": [
    "from imblearn.over_sampling import SMOTE \n",
    "sm = SMOTE() \n",
    "X_train_resample,y_train_resample= sm.fit_resample(X_train, y_train) "
   ]
  },
  {
   "cell_type": "code",
   "execution_count": 38,
   "id": "676b39bd",
   "metadata": {
    "execution": {
     "iopub.execute_input": "2023-10-13T21:54:43.341312Z",
     "iopub.status.busy": "2023-10-13T21:54:43.340759Z",
     "iopub.status.idle": "2023-10-13T21:54:43.346992Z",
     "shell.execute_reply": "2023-10-13T21:54:43.345647Z"
    },
    "papermill": {
     "duration": 0.025178,
     "end_time": "2023-10-13T21:54:43.349183",
     "exception": false,
     "start_time": "2023-10-13T21:54:43.324005",
     "status": "completed"
    },
    "tags": []
   },
   "outputs": [
    {
     "name": "stdout",
     "output_type": "stream",
     "text": [
      "(2062708, 16) (2062708,)\n"
     ]
    }
   ],
   "source": [
    "print(X_train_resample.shape,y_train_resample.shape)"
   ]
  },
  {
   "cell_type": "code",
   "execution_count": 39,
   "id": "8643211a",
   "metadata": {
    "execution": {
     "iopub.execute_input": "2023-10-13T21:54:43.381360Z",
     "iopub.status.busy": "2023-10-13T21:54:43.381013Z",
     "iopub.status.idle": "2023-10-13T21:54:55.772475Z",
     "shell.execute_reply": "2023-10-13T21:54:55.771312Z"
    },
    "papermill": {
     "duration": 12.410427,
     "end_time": "2023-10-13T21:54:55.774976",
     "exception": false,
     "start_time": "2023-10-13T21:54:43.364549",
     "status": "completed"
    },
    "tags": []
   },
   "outputs": [
    {
     "name": "stdout",
     "output_type": "stream",
     "text": [
      "0.9942294715329593\n",
      "Accuracy: 0.99414\n"
     ]
    }
   ],
   "source": [
    "logistic_model1 = LogisticRegression()\n",
    "logistic_model1.fit(X_train, y_train)\n",
    "y_pred = logistic_model1.predict(X_test)\n",
    "from sklearn.metrics import accuracy_score\n",
    "accuracy = accuracy_score(y_test, y_pred)\n",
    "train=logistic_model1.score(X_train, y_train)\n",
    "print(train)\n",
    "print(f'Accuracy: {accuracy:.5f}')"
   ]
  },
  {
   "cell_type": "code",
   "execution_count": 40,
   "id": "63015c95",
   "metadata": {
    "execution": {
     "iopub.execute_input": "2023-10-13T21:54:55.808401Z",
     "iopub.status.busy": "2023-10-13T21:54:55.808054Z",
     "iopub.status.idle": "2023-10-13T21:55:07.655807Z",
     "shell.execute_reply": "2023-10-13T21:55:07.654395Z"
    },
    "papermill": {
     "duration": 11.869871,
     "end_time": "2023-10-13T21:55:07.660009",
     "exception": false,
     "start_time": "2023-10-13T21:54:55.790138",
     "status": "completed"
    },
    "tags": []
   },
   "outputs": [
    {
     "name": "stdout",
     "output_type": "stream",
     "text": [
      "Accuracy: 0.99414\n"
     ]
    }
   ],
   "source": [
    "logistic_model2 = LogisticRegression(C=100)\n",
    "logistic_model2.fit(X_train, y_train)\n",
    "y_pred = logistic_model2.predict(X_test)\n",
    "from sklearn.metrics import accuracy_score\n",
    "accuracy = accuracy_score(y_test, y_pred)\n",
    "print(f'Accuracy: {accuracy:.5f}')"
   ]
  },
  {
   "cell_type": "code",
   "execution_count": 41,
   "id": "9f706a54",
   "metadata": {
    "execution": {
     "iopub.execute_input": "2023-10-13T21:55:07.737214Z",
     "iopub.status.busy": "2023-10-13T21:55:07.736881Z",
     "iopub.status.idle": "2023-10-13T21:55:19.582971Z",
     "shell.execute_reply": "2023-10-13T21:55:19.581553Z"
    },
    "papermill": {
     "duration": 11.882451,
     "end_time": "2023-10-13T21:55:19.586941",
     "exception": false,
     "start_time": "2023-10-13T21:55:07.704490",
     "status": "completed"
    },
    "tags": []
   },
   "outputs": [
    {
     "name": "stdout",
     "output_type": "stream",
     "text": [
      "Accuracy: 0.99414\n"
     ]
    }
   ],
   "source": [
    "logistic_model2 = LogisticRegression(C=0.001)\n",
    "logistic_model2.fit(X_train, y_train)\n",
    "y_pred = logistic_model2.predict(X_test)\n",
    "from sklearn.metrics import accuracy_score\n",
    "accuracy = accuracy_score(y_test, y_pred)\n",
    "print(f'Accuracy: {accuracy:.5f}')"
   ]
  },
  {
   "cell_type": "code",
   "execution_count": 42,
   "id": "d3b8a638",
   "metadata": {
    "execution": {
     "iopub.execute_input": "2023-10-13T21:55:19.663667Z",
     "iopub.status.busy": "2023-10-13T21:55:19.663341Z",
     "iopub.status.idle": "2023-10-13T21:55:25.240436Z",
     "shell.execute_reply": "2023-10-13T21:55:25.239421Z"
    },
    "papermill": {
     "duration": 5.612222,
     "end_time": "2023-10-13T21:55:25.242628",
     "exception": false,
     "start_time": "2023-10-13T21:55:19.630406",
     "status": "completed"
    },
    "tags": []
   },
   "outputs": [
    {
     "data": {
      "text/plain": [
       "<Axes: xlabel='amt', ylabel='Density'>"
      ]
     },
     "execution_count": 42,
     "metadata": {},
     "output_type": "execute_result"
    },
    {
     "data": {
      "image/png": "[encoded data removed]",
      "text/plain": [
       "<Figure size 640x480 with 1 Axes>"
      ]
     },
     "metadata": {},
     "output_type": "display_data"
    }
   ],
   "source": [
    "p99 = df[\"amt\"].quantile(0.99)\n",
    "sns.kdeplot(x=\"amt\", data=df[df[\"amt\"] <= p99], fill=True)"
   ]
  },
  {
   "cell_type": "code",
   "execution_count": 43,
   "id": "522b5440",
   "metadata": {
    "execution": {
     "iopub.execute_input": "2023-10-13T21:55:25.276250Z",
     "iopub.status.busy": "2023-10-13T21:55:25.275908Z",
     "iopub.status.idle": "2023-10-13T21:55:25.444319Z",
     "shell.execute_reply": "2023-10-13T21:55:25.443395Z"
    },
    "papermill": {
     "duration": 0.188497,
     "end_time": "2023-10-13T21:55:25.446506",
     "exception": false,
     "start_time": "2023-10-13T21:55:25.258009",
     "status": "completed"
    },
    "tags": []
   },
   "outputs": [
    {
     "data": {
      "text/plain": [
       "Index(['trans_date_trans_time', 'cc_num', 'category', 'amt', 'gender', 'city',\n",
       "       'state', 'zip', 'city_pop', 'job', 'is_fraud', 'lat_dis', 'long_dis',\n",
       "       'age', 'trans_month', 'trans_year', 'age2'],\n",
       "      dtype='object')"
      ]
     },
     "execution_count": 43,
     "metadata": {},
     "output_type": "execute_result"
    }
   ],
   "source": [
    "df_num = df.select_dtypes(include='number')\n",
    "\n",
    "df_num.columns"
   ]
  },
  {
   "cell_type": "code",
   "execution_count": 44,
   "id": "bc2ff8e9",
   "metadata": {
    "execution": {
     "iopub.execute_input": "2023-10-13T21:55:25.480385Z",
     "iopub.status.busy": "2023-10-13T21:55:25.480050Z",
     "iopub.status.idle": "2023-10-13T21:55:25.515681Z",
     "shell.execute_reply": "2023-10-13T21:55:25.514772Z"
    },
    "papermill": {
     "duration": 0.05541,
     "end_time": "2023-10-13T21:55:25.517625",
     "exception": false,
     "start_time": "2023-10-13T21:55:25.462215",
     "status": "completed"
    },
    "tags": []
   },
   "outputs": [],
   "source": [
    "X = df_num.drop(['is_fraud'],axis=1)\n",
    "y = df_num.is_fraud"
   ]
  },
  {
   "cell_type": "code",
   "execution_count": 45,
   "id": "21718156",
   "metadata": {
    "execution": {
     "iopub.execute_input": "2023-10-13T21:55:25.551208Z",
     "iopub.status.busy": "2023-10-13T21:55:25.550429Z",
     "iopub.status.idle": "2023-10-13T21:55:25.932344Z",
     "shell.execute_reply": "2023-10-13T21:55:25.931325Z"
    },
    "papermill": {
     "duration": 0.401127,
     "end_time": "2023-10-13T21:55:25.934687",
     "exception": false,
     "start_time": "2023-10-13T21:55:25.533560",
     "status": "completed"
    },
    "tags": []
   },
   "outputs": [],
   "source": [
    "scaler = StandardScaler()\n",
    "X = scaler.fit_transform(X)"
   ]
  },
  {
   "cell_type": "code",
   "execution_count": 46,
   "id": "77dd2096",
   "metadata": {
    "execution": {
     "iopub.execute_input": "2023-10-13T21:55:25.967673Z",
     "iopub.status.busy": "2023-10-13T21:55:25.966996Z",
     "iopub.status.idle": "2023-10-13T21:55:26.339048Z",
     "shell.execute_reply": "2023-10-13T21:55:26.337976Z"
    },
    "papermill": {
     "duration": 0.39094,
     "end_time": "2023-10-13T21:55:26.341335",
     "exception": false,
     "start_time": "2023-10-13T21:55:25.950395",
     "status": "completed"
    },
    "tags": []
   },
   "outputs": [
    {
     "data": {
      "text/plain": [
       "is_fraud\n",
       "0    644585\n",
       "1      3753\n",
       "Name: count, dtype: int64"
      ]
     },
     "execution_count": 46,
     "metadata": {},
     "output_type": "execute_result"
    }
   ],
   "source": [
    "from sklearn.model_selection import StratifiedKFold\n",
    "skf = StratifiedKFold(n_splits=2)\n",
    "skf.get_n_splits(X,y)\n",
    "\n",
    "for train_index, test_index in skf.split(X,y):\n",
    "  X_train, X_test = X[train_index], X[test_index]\n",
    "  y_train, y_test = y[train_index], y[test_index]\n",
    "\n",
    "y_train.value_counts()"
   ]
  },
  {
   "cell_type": "code",
   "execution_count": 47,
   "id": "27bb31aa",
   "metadata": {
    "execution": {
     "iopub.execute_input": "2023-10-13T21:55:26.374551Z",
     "iopub.status.busy": "2023-10-13T21:55:26.374218Z",
     "iopub.status.idle": "2023-10-13T21:55:29.981604Z",
     "shell.execute_reply": "2023-10-13T21:55:29.980651Z"
    },
    "papermill": {
     "duration": 3.626212,
     "end_time": "2023-10-13T21:55:29.983564",
     "exception": false,
     "start_time": "2023-10-13T21:55:26.357352",
     "status": "completed"
    },
    "tags": []
   },
   "outputs": [
    {
     "name": "stdout",
     "output_type": "stream",
     "text": [
      "y_train_pred:  [0 0 0 ... 0 0 0]\n",
      "y_test_pred:  [0 0 0 ... 0 0 0]\n",
      "0.9936807652798386\n",
      "0.9924884743582427\n"
     ]
    }
   ],
   "source": [
    "lr = LogisticRegression(random_state=42)\n",
    "model = lr.fit(X_train, y_train)\n",
    "y_train_pred = model.predict(X_train)\n",
    "print('y_train_pred: ',y_train_pred)\n",
    "y_test_pred = model.predict(X_test)\n",
    "print('y_test_pred: ', y_test_pred)\n",
    "train_score = model.score(X_train,y_train)\n",
    "test_score = model.score(X_test,y_test)\n",
    "print(train_score)\n",
    "print(test_score)"
   ]
  },
  {
   "cell_type": "code",
   "execution_count": 48,
   "id": "1000386c",
   "metadata": {
    "execution": {
     "iopub.execute_input": "2023-10-13T21:55:30.020014Z",
     "iopub.status.busy": "2023-10-13T21:55:30.018933Z",
     "iopub.status.idle": "2023-10-13T21:55:30.458381Z",
     "shell.execute_reply": "2023-10-13T21:55:30.456915Z"
    },
    "papermill": {
     "duration": 0.458572,
     "end_time": "2023-10-13T21:55:30.459921",
     "exception": true,
     "start_time": "2023-10-13T21:55:30.001349",
     "status": "failed"
    },
    "tags": []
   },
   "outputs": [
    {
     "ename": "NameError",
     "evalue": "name 'RandomUnderSampler' is not defined",
     "output_type": "error",
     "traceback": [
      "\u001b[0;31m---------------------------------------------------------------------------\u001b[0m",
      "\u001b[0;31mNameError\u001b[0m                                 Traceback (most recent call last)",
      "Cell \u001b[0;32mIn[48], line 1\u001b[0m\n\u001b[0;32m----> 1\u001b[0m rus \u001b[38;5;241m=\u001b[39m \u001b[43mRandomUnderSampler\u001b[49m()\n\u001b[1;32m      2\u001b[0m X_rus, y_rus \u001b[38;5;241m=\u001b[39m rus\u001b[38;5;241m.\u001b[39mfit_resample(X_train,y_train)\n\u001b[1;32m      4\u001b[0m y_rus\u001b[38;5;241m.\u001b[39mvalue_counts()\n",
      "\u001b[0;31mNameError\u001b[0m: name 'RandomUnderSampler' is not defined"
     ]
    }
   ],
   "source": [
    "rus = RandomUnderSampler()\n",
    "X_rus, y_rus = rus.fit_resample(X_train,y_train)\n",
    "\n",
    "y_rus.value_counts()"
   ]
  },
  {
   "cell_type": "code",
   "execution_count": null,
   "id": "eedc5a20",
   "metadata": {
    "execution": {
     "iopub.execute_input": "2023-10-13T21:30:18.109141Z",
     "iopub.status.busy": "2023-10-13T21:30:18.108702Z",
     "iopub.status.idle": "2023-10-13T21:30:18.119566Z",
     "shell.execute_reply": "2023-10-13T21:30:18.118323Z",
     "shell.execute_reply.started": "2023-10-13T21:30:18.109107Z"
    },
    "papermill": {
     "duration": null,
     "end_time": null,
     "exception": null,
     "start_time": null,
     "status": "pending"
    },
    "tags": []
   },
   "outputs": [],
   "source": [
    "X_train, X_test, y_train, y_test = train_test_split(X_rus, y_rus, test_size=0.3, random_state=42, stratify=y_rus)"
   ]
  },
  {
   "cell_type": "code",
   "execution_count": null,
   "id": "39436adb",
   "metadata": {
    "execution": {
     "iopub.execute_input": "2023-10-13T21:30:57.718985Z",
     "iopub.status.busy": "2023-10-13T21:30:57.718583Z",
     "iopub.status.idle": "2023-10-13T21:30:57.800379Z",
     "shell.execute_reply": "2023-10-13T21:30:57.798502Z",
     "shell.execute_reply.started": "2023-10-13T21:30:57.718955Z"
    },
    "papermill": {
     "duration": null,
     "end_time": null,
     "exception": null,
     "start_time": null,
     "status": "pending"
    },
    "tags": []
   },
   "outputs": [],
   "source": [
    "test_input = X_test.copy()\n",
    "test_output = y_test.copy()\n",
    "lr = LogisticRegression(random_state=42)\n",
    "model = lr.fit(X_train, y_train)\n",
    "y_train_pred = model.predict(X_train)\n",
    "y_train_pred\n",
    "test_pred=model.predict(test_input)\n",
    "test_pred"
   ]
  },
  {
   "cell_type": "code",
   "execution_count": null,
   "id": "43b4ab46",
   "metadata": {
    "execution": {
     "iopub.execute_input": "2023-10-13T21:35:57.483143Z",
     "iopub.status.busy": "2023-10-13T21:35:57.482784Z",
     "iopub.status.idle": "2023-10-13T21:35:57.495464Z",
     "shell.execute_reply": "2023-10-13T21:35:57.494604Z",
     "shell.execute_reply.started": "2023-10-13T21:35:57.483119Z"
    },
    "papermill": {
     "duration": null,
     "end_time": null,
     "exception": null,
     "start_time": null,
     "status": "pending"
    },
    "tags": []
   },
   "outputs": [],
   "source": [
    "from sklearn.model_selection import train_test_split\n",
    "from sklearn.model_selection import StratifiedKFold\n",
    "from sklearn.preprocessing import StandardScaler\n",
    "import scipy.stats as stats\n",
    "from imblearn.over_sampling import RandomOverSampler \n",
    "ros = RandomOverSampler()\n",
    "X_ros, y_ros = ros.fit_resample(X_train,y_train)\n",
    "\n",
    "y_ros.value_counts()"
   ]
  },
  {
   "cell_type": "code",
   "execution_count": null,
   "id": "d0c9cee6",
   "metadata": {
    "execution": {
     "iopub.execute_input": "2023-10-13T21:42:03.772153Z",
     "iopub.status.busy": "2023-10-13T21:42:03.771774Z",
     "iopub.status.idle": "2023-10-13T21:42:03.810242Z",
     "shell.execute_reply": "2023-10-13T21:42:03.808875Z",
     "shell.execute_reply.started": "2023-10-13T21:42:03.772127Z"
    },
    "papermill": {
     "duration": null,
     "end_time": null,
     "exception": null,
     "start_time": null,
     "status": "pending"
    },
    "tags": []
   },
   "outputs": [],
   "source": [
    "lr = LogisticRegression(random_state=42)\n",
    "model = lr.fit(X_train, y_train)\n",
    "y_train_pred = model.predict(X_train)\n",
    "y_train_pred\n",
    "test_pred = model.predict(test_input)\n",
    "test_pred"
   ]
  },
  {
   "cell_type": "code",
   "execution_count": null,
   "id": "cc18f8fe",
   "metadata": {
    "execution": {
     "iopub.execute_input": "2023-10-13T21:42:06.127088Z",
     "iopub.status.busy": "2023-10-13T21:42:06.126729Z",
     "iopub.status.idle": "2023-10-13T21:42:06.143953Z",
     "shell.execute_reply": "2023-10-13T21:42:06.142607Z",
     "shell.execute_reply.started": "2023-10-13T21:42:06.127063Z"
    },
    "papermill": {
     "duration": null,
     "end_time": null,
     "exception": null,
     "start_time": null,
     "status": "pending"
    },
    "tags": []
   },
   "outputs": [],
   "source": [
    "from sklearn.metrics import classification_report\n",
    "print(classification_report(test_output, test_pred))"
   ]
  }
 ],
 "metadata": {
  "kernelspec": {
   "display_name": "Python 3",
   "language": "python",
   "name": "python3"
  },
  "language_info": {
   "codemirror_mode": {
    "name": "ipython",
    "version": 3
   },
   "file_extension": ".py",
   "mimetype": "text/x-python",
   "name": "python",
   "nbconvert_exporter": "python",
   "pygments_lexer": "ipython3",
   "version": "3.10.12"
  },
  "papermill": {
   "default_parameters": {},
   "duration": 137.552912,
   "end_time": "2023-10-13T21:55:31.399929",
   "environment_variables": {},
   "exception": true,
   "input_path": "__notebook__.ipynb",
   "output_path": "__notebook__.ipynb",
   "parameters": {},
   "start_time": "2023-10-13T21:53:13.847017",
   "version": "2.4.0"
  }
 },
 "nbformat": 4,
 "nbformat_minor": 5
}
